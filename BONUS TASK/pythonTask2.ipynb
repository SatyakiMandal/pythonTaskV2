{
  "nbformat": 4,
  "nbformat_minor": 0,
  "metadata": {
    "colab": {
      "name": "pythonTask2.ipynb",
      "provenance": [],
      "collapsed_sections": []
    },
    "kernelspec": {
      "name": "python3",
      "display_name": "Python 3"
    },
    "language_info": {
      "name": "python"
    }
  },
  "cells": [
    {
      "cell_type": "markdown",
      "source": [
        "#**Bonus TASK**"
      ],
      "metadata": {
        "id": "tnd0U0spnyjT"
      }
    },
    {
      "cell_type": "code",
      "execution_count": null,
      "metadata": {
        "id": "H4McLgE0me85"
      },
      "outputs": [],
      "source": [
        "from bs4 import BeautifulSoup\n",
        "import requests\n",
        "from urllib.error import HTTPError\n",
        "\n",
        "import warnings\n",
        "warnings.filterwarnings(\"ignore\")\n",
        "\n",
        "#!pip install amazoncaptcha\n",
        "from amazoncaptcha import AmazonCaptcha\n",
        "\n",
        "\n",
        "def get_image_url(soup):\n",
        "\timages = []\n",
        "\tfor i in soup.findAll('img'):\n",
        "\t\tif((i.get('src'))!=None):\n",
        "\t\t\timages.append(i.get('src'))\n",
        "\treturn images\n",
        "\n",
        "\n",
        "HEADERS = ({'User-Agent':'Mozilla/5.0 (X11; Linux x86_64) AppleWebKit/537.36 (KHTML, like Gecko) Chrome/44.0.2403.157 Safari/537.36','Accept-Language': 'en-US, en;q=0.5'})\n",
        "URL = \"https://www.amazon.com/errors/validateCaptcha\"\n",
        "webpage = requests.get(URL, headers=HEADERS)\n",
        "soup = BeautifulSoup(webpage.content, \"lxml\")\n",
        "img = get_image_url(soup)\n",
        "#print(img[0])\n",
        "\n",
        "\n",
        "\n",
        "captcha = AmazonCaptcha.fromlink(img[0])\n",
        "solution = captcha.solve()\n",
        "print(\"Captcha solution: \",solution)\n",
        "print(\"Captcha image URL: \",img[0]) \n",
        "\n",
        "\n",
        "cap_id = 'captchacharacters'\n",
        "cap = solution\n",
        "\n",
        "\n",
        "def submit_form():\n",
        "    \"\"\"Submit a form\"\"\"\n",
        "    payload = {cap_id : cap}\n",
        "\n",
        "    resp = requests.get(URL)\n",
        "    print(\"Response to GET request: \",resp.content)\n",
        "\n",
        "    resp = requests.post(URL, payload)\n",
        "    print(\"Headers from a POST request response: \",resp.headers)\n",
        "\n",
        "submit_form()"
      ]
    }
  ]
}